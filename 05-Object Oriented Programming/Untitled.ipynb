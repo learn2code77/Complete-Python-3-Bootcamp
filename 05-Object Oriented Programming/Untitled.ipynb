{
 "cells": [
  {
   "cell_type": "code",
   "execution_count": 45,
   "id": "1de25deb-8e39-4a6a-8b83-7b71fe9e7bcd",
   "metadata": {},
   "outputs": [],
   "source": [
    "class Dog():\n",
    "\n",
    "    def __init__(self, name):\n",
    "        self.name = name\n",
    "\n",
    "    def speak(self):\n",
    "        return self.name + \" Says Woof\""
   ]
  },
  {
   "cell_type": "code",
   "execution_count": 46,
   "id": "9095a056-b52b-4555-94f9-b11c35f65a8d",
   "metadata": {},
   "outputs": [],
   "source": [
    "class Cat():\n",
    "\n",
    "    def __init__(self, name):\n",
    "        self.name = name\n",
    "\n",
    "    def speak(self):\n",
    "        return self.name + \" Says Meow\""
   ]
  },
  {
   "cell_type": "code",
   "execution_count": 56,
   "id": "4089f183-1e1c-4fa9-b5b7-a413e00ef3e0",
   "metadata": {},
   "outputs": [],
   "source": [
    "def pet_speak(pet):\n",
    "    print(pet.speak())"
   ]
  },
  {
   "cell_type": "code",
   "execution_count": 57,
   "id": "7e11f1cc-b42f-4b2b-aa1e-0f8f3b875a73",
   "metadata": {},
   "outputs": [
    {
     "name": "stdout",
     "output_type": "stream",
     "text": [
      "NIKO Says Woof\n"
     ]
    }
   ],
   "source": [
    "pet_speak(niko)"
   ]
  },
  {
   "cell_type": "code",
   "execution_count": 58,
   "id": "6c3de19c-da74-46a3-a0a3-3f9676b8720c",
   "metadata": {},
   "outputs": [
    {
     "name": "stdout",
     "output_type": "stream",
     "text": [
      "Felix Says Meow\n"
     ]
    }
   ],
   "source": [
    "pet_speak(felix)"
   ]
  },
  {
   "cell_type": "code",
   "execution_count": 123,
   "id": "a96cf4d6-ae58-48c7-a77a-ca0d814a5a17",
   "metadata": {},
   "outputs": [],
   "source": [
    "class Animal():\n",
    "\n",
    "    def __init__(self, name):\n",
    "        self.name = name\n",
    "        print(\" I am form animal Class\")\n",
    "\n",
    "    def speak(self):\n",
    "        raise NotImplementedError(\"Kai Pan\")"
   ]
  },
  {
   "cell_type": "code",
   "execution_count": 124,
   "id": "ccf459c2-9661-429d-8a79-00874b18ebeb",
   "metadata": {},
   "outputs": [],
   "source": [
    "class Dog(Animal):\n",
    "\n",
    "    def speak(self):\n",
    "        print(f\"{self.name} says Woof\")"
   ]
  },
  {
   "cell_type": "code",
   "execution_count": 125,
   "id": "2acecaac-1001-4efe-a917-6076f91470b3",
   "metadata": {},
   "outputs": [
    {
     "name": "stdout",
     "output_type": "stream",
     "text": [
      " I am form animal Class\n"
     ]
    }
   ],
   "source": [
    "bhairu = Dog('Bhairu')"
   ]
  },
  {
   "cell_type": "code",
   "execution_count": 126,
   "id": "4ffd83be-a341-49d8-8c57-2d534c3ebb6f",
   "metadata": {},
   "outputs": [
    {
     "name": "stdout",
     "output_type": "stream",
     "text": [
      "Bhairu says Woof\n"
     ]
    }
   ],
   "source": [
    "bhairu.speak()"
   ]
  },
  {
   "cell_type": "code",
   "execution_count": 152,
   "id": "3d5d6160-71ed-4656-bfa2-ca68cca10183",
   "metadata": {},
   "outputs": [],
   "source": [
    "class  Car():\n",
    "\n",
    "    def __init__(self, make, model, milege):\n",
    "        self.make = make\n",
    "        self.model = model\n",
    "        self.milege = milege\n",
    "\n",
    "    def __str__(self):\n",
    "        return f\"{self.make} and {self.model} model and gives {self.milege}\"\n",
    "\n",
    "    def __len__(self):\n",
    "        return f\"{self.milege}\"\n",
    "\n",
    "    def __del__(self):\n",
    "       print(f\"{self.model} deleted\")"
   ]
  },
  {
   "cell_type": "code",
   "execution_count": 153,
   "id": "f217f58e-d39d-4cd5-9149-74e8b98d9baf",
   "metadata": {},
   "outputs": [
    {
     "name": "stdout",
     "output_type": "stream",
     "text": [
      "i10 deleted\n"
     ]
    }
   ],
   "source": [
    "i10 = Car('Hyundai', 'i10', 200)"
   ]
  },
  {
   "cell_type": "code",
   "execution_count": 195,
   "id": "848ee028-1e75-47ac-8840-2f618bdcc626",
   "metadata": {},
   "outputs": [],
   "source": [
    "class Mybook():\n",
    "\n",
    "    def __init__(self, title, author, pages):\n",
    "        self.title = title \n",
    "        self.author = author\n",
    "        self.pages = pages\n",
    "\n",
    "    def __str__(self):\n",
    "        return f\"{self.title} by {self.author}\"\n",
    "\n",
    "    def __len__(self):\n",
    "        return self.pages\n",
    "\n",
    "    def __del__(self):\n",
    "        print(f\"A book {self.title} is destroyed\")"
   ]
  },
  {
   "cell_type": "code",
   "execution_count": 196,
   "id": "83c4e2b0-44e4-41c3-8be6-3aafe89ef9f7",
   "metadata": {},
   "outputs": [],
   "source": [
    "class Book:\n",
    "    def __init__(self, title, author, pages):\n",
    "        print(\"A book is created\")\n",
    "        self.title = title\n",
    "        self.author = author\n",
    "        self.pages = pages\n",
    "\n",
    "    def __str__(self):\n",
    "        return \"Title: %s, author: %s, pages: %s\" %(self.title, self.author, self.pages)\n",
    "\n",
    "    def __len__(self):\n",
    "        return self.pages\n",
    "\n",
    "    def __del__(self):\n",
    "        print(f\"A book {self.title} is destroyed\")"
   ]
  },
  {
   "cell_type": "code",
   "execution_count": 197,
   "id": "9b240226-0d3b-4050-9ff5-252ec86b6268",
   "metadata": {},
   "outputs": [
    {
     "name": "stdout",
     "output_type": "stream",
     "text": [
      "A book is created\n",
      "A book is destroyed\n"
     ]
    }
   ],
   "source": [
    "book = Book(\"Python Rocks!\", \"Jose Portilla\", 159)\n"
   ]
  },
  {
   "cell_type": "code",
   "execution_count": 198,
   "id": "e90fc176-12d1-46fe-9f4b-c4be38221498",
   "metadata": {},
   "outputs": [],
   "source": [
    "shemaru = Mybook(\"Siddesh\", \"Masti\", 400)"
   ]
  },
  {
   "cell_type": "code",
   "execution_count": 199,
   "id": "fa5b235f-e66f-42a0-99c1-521dfc261de0",
   "metadata": {},
   "outputs": [
    {
     "name": "stdout",
     "output_type": "stream",
     "text": [
      "Siddesh by Masti\n"
     ]
    }
   ],
   "source": [
    "print(shemaru)"
   ]
  },
  {
   "cell_type": "code",
   "execution_count": 200,
   "id": "9a6bbe3c-0f4a-46d4-b1cc-9276c984cb74",
   "metadata": {},
   "outputs": [
    {
     "name": "stdout",
     "output_type": "stream",
     "text": [
      "400\n"
     ]
    }
   ],
   "source": [
    "print(len(shemaru))"
   ]
  },
  {
   "cell_type": "code",
   "execution_count": 201,
   "id": "f45b3a74-9fb7-4192-ab37-c30141d22208",
   "metadata": {},
   "outputs": [
    {
     "name": "stdout",
     "output_type": "stream",
     "text": [
      "A book Siddesh is destroyed\n"
     ]
    }
   ],
   "source": [
    "del shemaru"
   ]
  },
  {
   "cell_type": "code",
   "execution_count": 202,
   "id": "08ee1be5-8e8f-4d48-b166-e9edc07b135d",
   "metadata": {},
   "outputs": [
    {
     "name": "stdout",
     "output_type": "stream",
     "text": [
      "A book Python Rocks! is destroyed\n"
     ]
    }
   ],
   "source": [
    "del book"
   ]
  },
  {
   "cell_type": "code",
   "execution_count": 226,
   "id": "e13b4b65-9535-4120-95fa-b20a3fa0677c",
   "metadata": {},
   "outputs": [],
   "source": [
    "class Line:\n",
    "    \n",
    "    def __init__(self,coor1,coor2):\n",
    "        self.coor1 = coor1\n",
    "        self.coor2 = coor2\n",
    "        self.x1, self.y1 = self.coor1\n",
    "        self.x2, self.y2 = self.coor2\n",
    "    \n",
    "    def distance(self):\n",
    "        return  ((self.x2-self.x1)**2 + (self.y2-self.y1)**2 )**0.5\n",
    "\n",
    "\n",
    "\n",
    "    def slope(self):\n",
    "        return (self.y2 - self.y1)/ (self.x2-self.x1)\n",
    "     "
   ]
  },
  {
   "cell_type": "code",
   "execution_count": 227,
   "id": "b08f7215-21db-43dd-8837-2feea4ea72a9",
   "metadata": {},
   "outputs": [],
   "source": [
    "coordinate1 = (3,2)\n",
    "coordinate2 = (8,10)"
   ]
  },
  {
   "cell_type": "code",
   "execution_count": 228,
   "id": "7eb8409f-ef55-4f7a-8e2f-8d80eba1f7b3",
   "metadata": {},
   "outputs": [],
   "source": [
    "li = Line(coordinate1,coordinate2)"
   ]
  },
  {
   "cell_type": "code",
   "execution_count": 229,
   "id": "f85c3767-2ef8-4a4b-8710-fc427c4f39a3",
   "metadata": {},
   "outputs": [
    {
     "data": {
      "text/plain": [
       "9.433981132056603"
      ]
     },
     "execution_count": 229,
     "metadata": {},
     "output_type": "execute_result"
    }
   ],
   "source": [
    "li.distance()"
   ]
  },
  {
   "cell_type": "code",
   "execution_count": 230,
   "id": "37a3efd6-d08c-4d6b-9115-56bab856ab8b",
   "metadata": {},
   "outputs": [
    {
     "data": {
      "text/plain": [
       "1.6"
      ]
     },
     "execution_count": 230,
     "metadata": {},
     "output_type": "execute_result"
    }
   ],
   "source": [
    "li.slope()"
   ]
  },
  {
   "cell_type": "code",
   "execution_count": 231,
   "id": "58e260e6-32b8-47a5-aabc-872679b11f23",
   "metadata": {},
   "outputs": [],
   "source": [
    "class Cylinder:\n",
    "    \n",
    "    def __init__(self,height=1,radius=1):\n",
    "        self.height = height\n",
    "        self.radius = radius\n",
    "        self.pi = 3.14\n",
    "        \n",
    "    def volume(self):\n",
    "        return self.pi * self.radius **2 * self.height\n",
    "    \n",
    "    def surface_area(self):\n",
    "        return 2 * self.pi * self.radius * self.height + 2 * self.pi * self.radius ** 2"
   ]
  },
  {
   "cell_type": "code",
   "execution_count": 232,
   "id": "bb30846d-0f3b-4f18-bd5d-adebc6df3645",
   "metadata": {},
   "outputs": [],
   "source": [
    "c = Cylinder(2,3)"
   ]
  },
  {
   "cell_type": "code",
   "execution_count": 233,
   "id": "e7cefb57-c326-443f-9cde-078d04632c8e",
   "metadata": {},
   "outputs": [
    {
     "data": {
      "text/plain": [
       "56.52"
      ]
     },
     "execution_count": 233,
     "metadata": {},
     "output_type": "execute_result"
    }
   ],
   "source": [
    "c.volume()"
   ]
  },
  {
   "cell_type": "code",
   "execution_count": 234,
   "id": "bc072ed7-d9bb-4eff-acca-daf703e8381c",
   "metadata": {},
   "outputs": [
    {
     "data": {
      "text/plain": [
       "94.2"
      ]
     },
     "execution_count": 234,
     "metadata": {},
     "output_type": "execute_result"
    }
   ],
   "source": [
    "c.surface_area()"
   ]
  },
  {
   "cell_type": "code",
   "execution_count": 280,
   "id": "1caa9634-b159-4e32-992a-c21877c0efd1",
   "metadata": {},
   "outputs": [],
   "source": [
    "class Account():\n",
    "\n",
    "    def __init__(self, owner, balance):\n",
    "        self.owner = owner\n",
    "        self.balance = balance\n",
    "\n",
    "    def __str__(self):\n",
    "        return f\"owner is  = {self.owner} \\nAvailable balance is = {self.balance}\"\n",
    "\n",
    "    def deposit(self, amount):\n",
    "        self.balance += amount\n",
    "        return f\"New Balance is {self.balance}\" \n",
    "\n",
    "    def withdrawal(self, with_amount):\n",
    "        if with_amount <= self.balance:\n",
    "            print(f\"you can withdraw Rs.{with_amount}\")\n",
    "            self.balance = self.balance - with_amount\n",
    "            return f\"New Balance is {self.balance}\" \n",
    "        else:\n",
    "            print(f\"You cant withdrwa Rs.{with_amount} as your balance is low\")\n",
    "\n",
    "        "
   ]
  },
  {
   "cell_type": "code",
   "execution_count": 281,
   "id": "ca5683f3-fd87-48ce-abf8-da29333af48a",
   "metadata": {},
   "outputs": [],
   "source": [
    "acct1 = Account('Jose',100)"
   ]
  },
  {
   "cell_type": "code",
   "execution_count": 282,
   "id": "fa826475-c79e-423c-a088-88c56599ec39",
   "metadata": {},
   "outputs": [
    {
     "data": {
      "text/plain": [
       "100"
      ]
     },
     "execution_count": 282,
     "metadata": {},
     "output_type": "execute_result"
    }
   ],
   "source": [
    "acct1.balance"
   ]
  },
  {
   "cell_type": "code",
   "execution_count": 283,
   "id": "54b51727-f758-4d32-a1c6-f9fd306af28f",
   "metadata": {},
   "outputs": [
    {
     "data": {
      "text/plain": [
       "'Jose'"
      ]
     },
     "execution_count": 283,
     "metadata": {},
     "output_type": "execute_result"
    }
   ],
   "source": [
    "acct1.owner"
   ]
  },
  {
   "cell_type": "code",
   "execution_count": 284,
   "id": "39af2f77-91ae-4cf6-87f9-5025ea103fd9",
   "metadata": {},
   "outputs": [
    {
     "name": "stdout",
     "output_type": "stream",
     "text": [
      "owner is  = Jose \n",
      "Available balance is = 100\n"
     ]
    }
   ],
   "source": [
    "print(acct1)"
   ]
  },
  {
   "cell_type": "code",
   "execution_count": 285,
   "id": "4f655e94-03f8-42a4-9a50-d43753829d94",
   "metadata": {},
   "outputs": [
    {
     "data": {
      "text/plain": [
       "'New Balance is 150'"
      ]
     },
     "execution_count": 285,
     "metadata": {},
     "output_type": "execute_result"
    }
   ],
   "source": [
    "acct1.deposit(50)"
   ]
  },
  {
   "cell_type": "code",
   "execution_count": null,
   "id": "ae1a41c7-db4c-4081-b88c-61b1d9c22b24",
   "metadata": {},
   "outputs": [],
   "source": []
  },
  {
   "cell_type": "code",
   "execution_count": 287,
   "id": "9ad4ce71-c8d0-4f98-be74-1ba13152ab0f",
   "metadata": {},
   "outputs": [
    {
     "name": "stdout",
     "output_type": "stream",
     "text": [
      "you can withdraw Rs.75\n"
     ]
    },
    {
     "data": {
      "text/plain": [
       "'New Balance is 75'"
      ]
     },
     "execution_count": 287,
     "metadata": {},
     "output_type": "execute_result"
    }
   ],
   "source": [
    "acct1.withdrawal(75)"
   ]
  },
  {
   "cell_type": "code",
   "execution_count": 290,
   "id": "b090fb11-dcd6-47c7-98d4-4fe0b151131f",
   "metadata": {},
   "outputs": [
    {
     "name": "stdout",
     "output_type": "stream",
     "text": [
      "You cant withdrwa Rs.500 as your balance is low\n"
     ]
    }
   ],
   "source": [
    "acct1.withdrawal(500)"
   ]
  },
  {
   "cell_type": "code",
   "execution_count": null,
   "id": "07424684-e94e-440d-8728-1b5552384288",
   "metadata": {},
   "outputs": [],
   "source": []
  }
 ],
 "metadata": {
  "kernelspec": {
   "display_name": "Python 3 (ipykernel)",
   "language": "python",
   "name": "python3"
  },
  "language_info": {
   "codemirror_mode": {
    "name": "ipython",
    "version": 3
   },
   "file_extension": ".py",
   "mimetype": "text/x-python",
   "name": "python",
   "nbconvert_exporter": "python",
   "pygments_lexer": "ipython3",
   "version": "3.11.3"
  }
 },
 "nbformat": 4,
 "nbformat_minor": 5
}
